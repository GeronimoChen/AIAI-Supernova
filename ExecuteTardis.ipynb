{
 "cells": [
  {
   "cell_type": "markdown",
   "metadata": {},
   "source": [
    "# Create the Element Model\n",
    "This notebook is to create the element model to run the TARDIS again. \n",
    "However, you still need to determine the photosphere (inner shell) velocity and the requested luminosity to make a perfect-fitting spectra.  \n",
    "An example of the Tardis configuration is given in \"IGmodel/DD-Sprinter-Lumi8.67.yml\", you may need to re-define the spectral-line file location, the SN explosion time, the random seed, the element abundance name.  \n",
    "In the paper, I searched the best-fit manually mainly due to the limited computation facility. \n",
    "I recommend you to use grid-search to make it more efficiently.  \n",
    "Also, when running the Tardis, don't forget to use the density profile in \"IGmodel/Density.dat\".  "
   ]
  },
  {
   "cell_type": "code",
   "execution_count": 3,
   "metadata": {},
   "outputs": [
    {
     "name": "stderr",
     "output_type": "stream",
     "text": [
      "Using TensorFlow backend.\n"
     ]
    }
   ],
   "source": [
    "import os\n",
    "import glob\n",
    "import yaml\n",
    "import keras\n",
    "import astropy\n",
    "import numpy as np\n",
    "import pandas as pd\n",
    "import keras.backend as K\n",
    "import astropy.units as u\n",
    "import astropy.constants as c\n",
    "import matplotlib.pyplot as plt\n",
    "from scipy.interpolate import interp1d\n",
    "from keras.models import Sequential,Model\n",
    "from dust_extinction.averages import GCC09_MWAvg\n",
    "from sklearn.model_selection import train_test_split\n",
    "from dust_extinction.parameter_averages import CCM89,F99"
   ]
  },
  {
   "cell_type": "code",
   "execution_count": 7,
   "metadata": {},
   "outputs": [],
   "source": [
    "spectralist=[\n",
    "    'ObserveSpectra/Prediction/SN2011fe/SN2011fe_0.4d.dat',\n",
    "    'ObserveSpectra/Prediction/SN2011fe/SN2011fe_-2.6d.dat',\n",
    "    'ObserveSpectra/Prediction/SN2011fe/SN2011fe_3.7d.dat',\n",
    "    'ObserveSpectra/Prediction/SN2013dy/SN2013dy_-3.1d.flm',\n",
    "    'ObserveSpectra/Prediction/SN2013dy/SN2013dy_-1.1d.flm',\n",
    "    'ObserveSpectra/Prediction/SN2013dy/SN2013dy_0.9d.flm',\n",
    "    'ObserveSpectra/Prediction/SN2013dy/SN2013dy_3.9d.flm',\n",
    "    'ObserveSpectra/Prediction/SN2011iv/SN2011iv_0.6d.flm',\n",
    "    'ObserveSpectra/Prediction/SN2015F/SN2015F_-2.3d.flm',\n",
    "    'ObserveSpectra/Prediction/ASASSN-14lp/ASASSN-14lp_-4.4d.flm',\n",
    "    'ObserveSpectra/Prediction/SN2011by/SN2011by_-0.4d.flm']\n",
    "ext1list=[CCM89(Rv=3.1),CCM89(Rv=3.1),CCM89(Rv=3.1),\n",
    "         CCM89(Rv=3.1),CCM89(Rv=3.1),CCM89(Rv=3.1),CCM89(Rv=3.1),\n",
    "         CCM89(Rv=3.1),CCM89(Rv=3.1),CCM89(Rv=3.1),F99(Rv=3.1)]\n",
    "ext2list=[GCC09_MWAvg(),GCC09_MWAvg(),GCC09_MWAvg(),\n",
    "         GCC09_MWAvg(),GCC09_MWAvg(),GCC09_MWAvg(),GCC09_MWAvg(),\n",
    "         GCC09_MWAvg(),GCC09_MWAvg(),GCC09_MWAvg(),GCC09_MWAvg()]\n",
    "ext1EbvList=[0,0,0,0.206,0.206,0.206,0.206,0,0.035,0.33,0.039]\n",
    "ext2EbvList=[0,0,0,0.135,0.135,0.135,0.135,0,0.175,0.021,0.013]\n",
    "zlist=[0.000804,0.000804,0.000804,0.00389,0.00389,0.00389,0.00389,0.006494,0.0049,0.0051,0.002843]\n",
    "snname=['SN2011fe_0.4d','SN2011fe_-2.6d','SN2011fe_3.7d','SN2013dy_-3.1d','SN2013dy_-1.1d',\n",
    "        'SN2013dy_0.9d','SN2013dy_3.9d','SN2011iv_0.6d','SN2015F_-2.3d','ASASSN-14lp_-4.4d','SN2011by_-0.4d']"
   ]
  },
  {
   "cell_type": "code",
   "execution_count": 15,
   "metadata": {},
   "outputs": [],
   "source": [
    "def WriteOneAbund(Element,chosenelem,zone,amplifier):\n",
    "    if zone==1:Element[:19,chosenelem]=Element[:19,chosenelem]*amplifier\n",
    "    if zone==2:Element[19:30,chosenelem]=Element[19:30,chosenelem]*amplifier\n",
    "    if zone==3:Element[30:40,chosenelem]=Element[30:40,chosenelem]*amplifier\n",
    "    if zone==4:Element[40:,chosenelem]=Element[40:,chosenelem]*amplifier\n",
    "    return Element\n",
    "def ElemWritter(elemdata,elemindex,elemname):\n",
    "    Element=np.genfromtxt('IGmodel/Element.dat')\n",
    "    for k in range(len(elemindex)):\n",
    "        Element=WriteOneAbund(Element,\\\n",
    "                              int(elemindex[k].split('_')[0]),\\\n",
    "                              int(elemindex[k].split('_')[1]),\\\n",
    "                              elemdata[k])\n",
    "    \n",
    "    Element=pd.DataFrame(Element)\n",
    "    Element[0]=pd.to_numeric(Element[0],downcast='integer')\n",
    "    Element.to_csv(elemname,index=False,header=False,sep=' ')#elemname default is 'TdCache/Element.dat'\n",
    "    \n",
    "    with open(elemname,'r+') as f:\n",
    "        old=f.read()\n",
    "        f.seek(0)\n",
    "        f.write('# index Z=1 - Z=30\\n')\n",
    "        f.write(old)\n",
    "    return"
   ]
  },
  {
   "cell_type": "markdown",
   "metadata": {},
   "source": [
    "## Read the Multiplication Factor\n",
    "Don't forget to visit the \"ExecutePredict.ipynb\" before that.  \n",
    "In this notebook, it reads the multiplication factor (which is the output of the other notebook) then convert it to Tardis's element abundance profile.  "
   ]
  },
  {
   "cell_type": "code",
   "execution_count": 9,
   "metadata": {},
   "outputs": [],
   "source": [
    "RefineData=pd.read_csv('DataCache/2019.3.3/RefineData.csv',index_col=0)"
   ]
  },
  {
   "cell_type": "code",
   "execution_count": 13,
   "metadata": {},
   "outputs": [],
   "source": [
    "ProberRes=pd.read_csv('MdSaver/SmallRun/DataRes.csv')\n",
    "RawElems=[str(i)+'_'+str(j) for i in range(6,29) for j in [1,2,3,4]]\n",
    "ChosenElem=[]\n",
    "for k in RawElems:\n",
    "    if ProberRes[k][0]>0.1:continue\n",
    "    ChosenElem.append(k)"
   ]
  },
  {
   "cell_type": "code",
   "execution_count": 18,
   "metadata": {},
   "outputs": [],
   "source": [
    "for i in range(len(RefineData)):\n",
    "    ElemAmplify=np.array(RefineData.iloc[i,1:]).tolist()\n",
    "    ElemAmplify=np.array(ElemAmplify)\n",
    "    ElemAmplify=(abs(ElemAmplify)+ElemAmplify)/2\n",
    "    ElemWritter(elemdata=ElemAmplify,elemindex=ChosenElem,elemname='TdCache/PredElemsAll4/'+RefineData['NameList'][i]+'.abund.dat')  "
   ]
  }
 ],
 "metadata": {
  "kernelspec": {
   "display_name": "Python [conda env:keras]",
   "language": "python",
   "name": "conda-env-keras-py"
  },
  "language_info": {
   "codemirror_mode": {
    "name": "ipython",
    "version": 3
   },
   "file_extension": ".py",
   "mimetype": "text/x-python",
   "name": "python",
   "nbconvert_exporter": "python",
   "pygments_lexer": "ipython3",
   "version": "3.6.9"
  }
 },
 "nbformat": 4,
 "nbformat_minor": 2
}
