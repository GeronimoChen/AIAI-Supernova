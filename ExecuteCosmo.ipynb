{
 "cells": [
  {
   "cell_type": "markdown",
   "metadata": {},
   "source": [
    "# Cosmology\n",
    "Here are how to use the MRNN to do some cosmological predictions. To specify, the intrinsic luminosity of SNe.  "
   ]
  },
  {
   "cell_type": "code",
   "execution_count": 1,
   "metadata": {},
   "outputs": [
    {
     "name": "stderr",
     "output_type": "stream",
     "text": [
      "Using TensorFlow backend.\n"
     ]
    }
   ],
   "source": [
    "import os\n",
    "import glob\n",
    "import yaml\n",
    "import keras\n",
    "import astropy\n",
    "import numpy as np\n",
    "import pandas as pd\n",
    "import keras.backend as K\n",
    "import astropy.units as u\n",
    "import astropy.constants as c\n",
    "from astropy.time import Time\n",
    "import matplotlib.pyplot as plt\n",
    "from scipy.interpolate import interp1d\n",
    "from keras.models import Sequential,Model\n",
    "from dust_extinction.averages import GCC09_MWAvg\n",
    "from sklearn.model_selection import train_test_split\n",
    "from dust_extinction.parameter_averages import CCM89,F99"
   ]
  },
  {
   "cell_type": "markdown",
   "metadata": {},
   "source": [
    "## The B-band Magnitude Measure\n",
    "I got a rough B-band transmission, hope it is accurate enough.  \n",
    "And when you are using this B-band calculator, please check the wavelength sampling. In our spectra which has 2000 pixels between 2000 and 10000 Angstrom wavelength, the delta frequency is the default number.  "
   ]
  },
  {
   "cell_type": "code",
   "execution_count": 2,
   "metadata": {},
   "outputs": [],
   "source": [
    "def BFilterMagCalculator(spec,delta_frequency=5.9958492*10**11*u.Hz):\n",
    "    #shortwave=2000\n",
    "    #longwave=10000\n",
    "    spec=pd.DataFrame(spec,columns=['wave','flux'])\n",
    "    #flux=spec[spec['wave']>shortwave]\n",
    "    #flux=flux[flux['wave']<longwave]\n",
    "    wave=np.array(spec['wave'])\n",
    "    flux=np.array(spec['flux'])\n",
    "    Bfilter=np.array([0.0,0.0,0.030,0.134,0.567,\n",
    "                      0.920,0.978,1.000,0.978,\n",
    "                      0.935,0.853,0.740,0.640,\n",
    "                      0.536,0.424,0.325,0.235,\n",
    "                      0.150,0.095,0.043,0.009,0.0,0.0])\n",
    "    Bwave=np.array([2000,3600,3700,3800,3900,\n",
    "                    4000,4100,4200,4300,\n",
    "                    4400,4500,4600,4700,\n",
    "                    4800,4900,5000,5100,\n",
    "                    5200,5300,5400,5500,5600,10000])\n",
    "    Bfunc=interp1d(Bwave,Bfilter)#The Johnson B filter\n",
    "    flux=flux*Bfunc(wave)\n",
    "    flux=flux/(1.1964952*10**40)#The spherical luminosity to the flux in a square centimeter at 10 parsec away. \n",
    "    delta_lambda=(wave*u.AA)**2*delta_frequency/c.c\n",
    "    delta_lambda=delta_lambda.to(unit=u.AA)\n",
    "    flux=sum(flux*delta_lambda.value)\n",
    "    #print(flux*(1.1964952*10**40))\n",
    "    #print(flux)\n",
    "    mag=-2.5*np.log10(flux/6.00069/10**-6)+0.03# Here it is the flux divided by Vega's apparent flux in B band by HST STIS measurement. \n",
    "    return mag"
   ]
  },
  {
   "cell_type": "code",
   "execution_count": null,
   "metadata": {},
   "outputs": [],
   "source": [
    "X=np.load('DataSet/X.npy')\n",
    "Y=np.zeros(X.shape[0])\n",
    "wave=np.load('DataSet/wave.npy')\n",
    "X=X/np.average(X[:,167:269])\n",
    "Y=Y-Yaverage/Ystd\n",
    "Y=np.tanh(Y)/2+0.5\n",
    "Y=pd.DataFrame(Y,columns=[str(i)+'_'+str(j) for i in range(6,29) for j in range(1,5)])"
   ]
  },
  {
   "cell_type": "code",
   "execution_count": null,
   "metadata": {},
   "outputs": [],
   "source": [
    "data=[]\n",
    "for i in [1,2,3,4,5,6,7,8,9,13,14,15,16,17,18,19,20,21]:\n",
    "    data.append(pd.read_csv('csvs/'+str(i)+'.csv'))"
   ]
  },
  {
   "cell_type": "code",
   "execution_count": null,
   "metadata": {},
   "outputs": [],
   "source": [
    "specdirs=['Spec/'+str(i)+'/*' for i in [1,2,3,4,5,6,7,8,9,13,14,15,16,17,18,19,20,21]]\n",
    "specs=[]\n",
    "speccounts=[]\n",
    "for i in specdirs:\n",
    "    specsmall=[]\n",
    "    speccountsmall=[]\n",
    "    for j in glob.glob(i):\n",
    "        #if int(j.split('/')[2].split('.txt')[0])\n",
    "        k=np.genfromtxt(j)\n",
    "        specsmall.append(k)\n",
    "        speccountsmall.append(int(j.split('/')[2].split('.txt')[0]))\n",
    "    print(i)\n",
    "    specs.append(specsmall)\n",
    "    speccounts.append(speccountsmall)"
   ]
  },
  {
   "cell_type": "code",
   "execution_count": null,
   "metadata": {},
   "outputs": [],
   "source": [
    "X=[]\n",
    "Y=[]\n",
    "Mags=[]\n",
    "for i in range(len(specs)):\n",
    "    for j in range(len(specs[i])):\n",
    "        spdata=specs[i][j]\n",
    "        bmag=BFilterMagCalculator(spdata).copy()\n",
    "        if bmag>-17.5:continue\n",
    "        spdata=Normalizer(spdata)\n",
    "        if np.max(spdata[:,1])>30:continue\n",
    "        Mags.append(bmag)\n",
    "        X.append(spdata[:,1])\n",
    "        Y.append(np.array(data[i].iloc[speccounts[i][j],3:]))\n",
    "X=np.array(X)\n",
    "X=X.reshape(X.shape[0],2000,1)\n",
    "Y=np.array(Y)\n",
    "\n",
    "Y=(Y-Yaverage)/Ystd\n",
    "Y=np.tanh(Y)/2+0.5\n",
    "Y=pd.DataFrame(Y,columns=[str(i)+'_'+str(j) for i in range(6,29) for j in range(1,5)])\n",
    "Mags=np.array(Mags)\n",
    "\n",
    "magaver=-19\n",
    "magstd=1\n",
    "\n",
    "Ymag=np.tanh((Mags-magaver)/magstd)/2+0.5\n",
    "Ymag=pd.DataFrame({'mag':Ymag})"
   ]
  }
 ],
 "metadata": {
  "kernelspec": {
   "display_name": "Python [conda env:keras]",
   "language": "python",
   "name": "conda-env-keras-py"
  },
  "language_info": {
   "codemirror_mode": {
    "name": "ipython",
    "version": 3
   },
   "file_extension": ".py",
   "mimetype": "text/x-python",
   "name": "python",
   "nbconvert_exporter": "python",
   "pygments_lexer": "ipython3",
   "version": "3.6.9"
  }
 },
 "nbformat": 4,
 "nbformat_minor": 2
}
